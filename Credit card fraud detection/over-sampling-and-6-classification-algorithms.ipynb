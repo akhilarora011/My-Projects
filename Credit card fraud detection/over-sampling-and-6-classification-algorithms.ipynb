{
 "cells": [
  {
   "cell_type": "markdown",
   "metadata": {
    "papermill": {
     "duration": 0.007905,
     "end_time": "2020-08-18T07:55:51.528594",
     "exception": false,
     "start_time": "2020-08-18T07:55:51.520689",
     "status": "completed"
    },
    "tags": []
   },
   "source": [
    "\n",
    "\n",
    "# CREDIT CARD FRAUD DETECTION"
   ]
  },
  {
   "cell_type": "code",
   "execution_count": 1,
   "metadata": {
    "_cell_guid": "b1076dfc-b9ad-4769-8c92-a6c4dae69d19",
    "_uuid": "8f2839f25d086af736a60e9eeb907d3b93b6e0e5",
    "execution": {
     "iopub.execute_input": "2020-08-18T07:55:51.549235Z",
     "iopub.status.busy": "2020-08-18T07:55:51.548434Z",
     "iopub.status.idle": "2020-08-18T07:55:55.536281Z",
     "shell.execute_reply": "2020-08-18T07:55:55.536856Z"
    },
    "papermill": {
     "duration": 4.001612,
     "end_time": "2020-08-18T07:55:55.537054",
     "exception": false,
     "start_time": "2020-08-18T07:55:51.535442",
     "status": "completed"
    },
    "tags": []
   },
   "outputs": [
    {
     "data": {
      "text/html": [
       "<div>\n",
       "<style scoped>\n",
       "    .dataframe tbody tr th:only-of-type {\n",
       "        vertical-align: middle;\n",
       "    }\n",
       "\n",
       "    .dataframe tbody tr th {\n",
       "        vertical-align: top;\n",
       "    }\n",
       "\n",
       "    .dataframe thead th {\n",
       "        text-align: right;\n",
       "    }\n",
       "</style>\n",
       "<table border=\"1\" class=\"dataframe\">\n",
       "  <thead>\n",
       "    <tr style=\"text-align: right;\">\n",
       "      <th></th>\n",
       "      <th>Time</th>\n",
       "      <th>V1</th>\n",
       "      <th>V2</th>\n",
       "      <th>V3</th>\n",
       "      <th>V4</th>\n",
       "      <th>V5</th>\n",
       "      <th>V6</th>\n",
       "      <th>V7</th>\n",
       "      <th>V8</th>\n",
       "      <th>V9</th>\n",
       "      <th>...</th>\n",
       "      <th>V21</th>\n",
       "      <th>V22</th>\n",
       "      <th>V23</th>\n",
       "      <th>V24</th>\n",
       "      <th>V25</th>\n",
       "      <th>V26</th>\n",
       "      <th>V27</th>\n",
       "      <th>V28</th>\n",
       "      <th>Amount</th>\n",
       "      <th>Class</th>\n",
       "    </tr>\n",
       "  </thead>\n",
       "  <tbody>\n",
       "    <tr>\n",
       "      <th>0</th>\n",
       "      <td>0.0</td>\n",
       "      <td>-1.359807</td>\n",
       "      <td>-0.072781</td>\n",
       "      <td>2.536347</td>\n",
       "      <td>1.378155</td>\n",
       "      <td>-0.338321</td>\n",
       "      <td>0.462388</td>\n",
       "      <td>0.239599</td>\n",
       "      <td>0.098698</td>\n",
       "      <td>0.363787</td>\n",
       "      <td>...</td>\n",
       "      <td>-0.018307</td>\n",
       "      <td>0.277838</td>\n",
       "      <td>-0.110474</td>\n",
       "      <td>0.066928</td>\n",
       "      <td>0.128539</td>\n",
       "      <td>-0.189115</td>\n",
       "      <td>0.133558</td>\n",
       "      <td>-0.021053</td>\n",
       "      <td>149.62</td>\n",
       "      <td>0</td>\n",
       "    </tr>\n",
       "    <tr>\n",
       "      <th>1</th>\n",
       "      <td>0.0</td>\n",
       "      <td>1.191857</td>\n",
       "      <td>0.266151</td>\n",
       "      <td>0.166480</td>\n",
       "      <td>0.448154</td>\n",
       "      <td>0.060018</td>\n",
       "      <td>-0.082361</td>\n",
       "      <td>-0.078803</td>\n",
       "      <td>0.085102</td>\n",
       "      <td>-0.255425</td>\n",
       "      <td>...</td>\n",
       "      <td>-0.225775</td>\n",
       "      <td>-0.638672</td>\n",
       "      <td>0.101288</td>\n",
       "      <td>-0.339846</td>\n",
       "      <td>0.167170</td>\n",
       "      <td>0.125895</td>\n",
       "      <td>-0.008983</td>\n",
       "      <td>0.014724</td>\n",
       "      <td>2.69</td>\n",
       "      <td>0</td>\n",
       "    </tr>\n",
       "    <tr>\n",
       "      <th>2</th>\n",
       "      <td>1.0</td>\n",
       "      <td>-1.358354</td>\n",
       "      <td>-1.340163</td>\n",
       "      <td>1.773209</td>\n",
       "      <td>0.379780</td>\n",
       "      <td>-0.503198</td>\n",
       "      <td>1.800499</td>\n",
       "      <td>0.791461</td>\n",
       "      <td>0.247676</td>\n",
       "      <td>-1.514654</td>\n",
       "      <td>...</td>\n",
       "      <td>0.247998</td>\n",
       "      <td>0.771679</td>\n",
       "      <td>0.909412</td>\n",
       "      <td>-0.689281</td>\n",
       "      <td>-0.327642</td>\n",
       "      <td>-0.139097</td>\n",
       "      <td>-0.055353</td>\n",
       "      <td>-0.059752</td>\n",
       "      <td>378.66</td>\n",
       "      <td>0</td>\n",
       "    </tr>\n",
       "    <tr>\n",
       "      <th>3</th>\n",
       "      <td>1.0</td>\n",
       "      <td>-0.966272</td>\n",
       "      <td>-0.185226</td>\n",
       "      <td>1.792993</td>\n",
       "      <td>-0.863291</td>\n",
       "      <td>-0.010309</td>\n",
       "      <td>1.247203</td>\n",
       "      <td>0.237609</td>\n",
       "      <td>0.377436</td>\n",
       "      <td>-1.387024</td>\n",
       "      <td>...</td>\n",
       "      <td>-0.108300</td>\n",
       "      <td>0.005274</td>\n",
       "      <td>-0.190321</td>\n",
       "      <td>-1.175575</td>\n",
       "      <td>0.647376</td>\n",
       "      <td>-0.221929</td>\n",
       "      <td>0.062723</td>\n",
       "      <td>0.061458</td>\n",
       "      <td>123.50</td>\n",
       "      <td>0</td>\n",
       "    </tr>\n",
       "    <tr>\n",
       "      <th>4</th>\n",
       "      <td>2.0</td>\n",
       "      <td>-1.158233</td>\n",
       "      <td>0.877737</td>\n",
       "      <td>1.548718</td>\n",
       "      <td>0.403034</td>\n",
       "      <td>-0.407193</td>\n",
       "      <td>0.095921</td>\n",
       "      <td>0.592941</td>\n",
       "      <td>-0.270533</td>\n",
       "      <td>0.817739</td>\n",
       "      <td>...</td>\n",
       "      <td>-0.009431</td>\n",
       "      <td>0.798278</td>\n",
       "      <td>-0.137458</td>\n",
       "      <td>0.141267</td>\n",
       "      <td>-0.206010</td>\n",
       "      <td>0.502292</td>\n",
       "      <td>0.219422</td>\n",
       "      <td>0.215153</td>\n",
       "      <td>69.99</td>\n",
       "      <td>0</td>\n",
       "    </tr>\n",
       "  </tbody>\n",
       "</table>\n",
       "<p>5 rows × 31 columns</p>\n",
       "</div>"
      ],
      "text/plain": [
       "   Time        V1        V2        V3        V4        V5        V6        V7  \\\n",
       "0   0.0 -1.359807 -0.072781  2.536347  1.378155 -0.338321  0.462388  0.239599   \n",
       "1   0.0  1.191857  0.266151  0.166480  0.448154  0.060018 -0.082361 -0.078803   \n",
       "2   1.0 -1.358354 -1.340163  1.773209  0.379780 -0.503198  1.800499  0.791461   \n",
       "3   1.0 -0.966272 -0.185226  1.792993 -0.863291 -0.010309  1.247203  0.237609   \n",
       "4   2.0 -1.158233  0.877737  1.548718  0.403034 -0.407193  0.095921  0.592941   \n",
       "\n",
       "         V8        V9  ...       V21       V22       V23       V24       V25  \\\n",
       "0  0.098698  0.363787  ... -0.018307  0.277838 -0.110474  0.066928  0.128539   \n",
       "1  0.085102 -0.255425  ... -0.225775 -0.638672  0.101288 -0.339846  0.167170   \n",
       "2  0.247676 -1.514654  ...  0.247998  0.771679  0.909412 -0.689281 -0.327642   \n",
       "3  0.377436 -1.387024  ... -0.108300  0.005274 -0.190321 -1.175575  0.647376   \n",
       "4 -0.270533  0.817739  ... -0.009431  0.798278 -0.137458  0.141267 -0.206010   \n",
       "\n",
       "        V26       V27       V28  Amount  Class  \n",
       "0 -0.189115  0.133558 -0.021053  149.62      0  \n",
       "1  0.125895 -0.008983  0.014724    2.69      0  \n",
       "2 -0.139097 -0.055353 -0.059752  378.66      0  \n",
       "3 -0.221929  0.062723  0.061458  123.50      0  \n",
       "4  0.502292  0.219422  0.215153   69.99      0  \n",
       "\n",
       "[5 rows x 31 columns]"
      ]
     },
     "execution_count": 1,
     "metadata": {},
     "output_type": "execute_result"
    }
   ],
   "source": [
    "# importing basic libraries\n",
    "import numpy as np # linear algebra\n",
    "import pandas as pd # data processing, CSV file I/O (e.g. pd.read_csv)\n",
    "import matplotlib.pyplot as plt\n",
    "import seaborn as sns # for visualization\n",
    "# reading data\n",
    "raw_data = pd.read_csv('../input/creditcardfraud/creditcard.csv')\n",
    "raw_data.head()"
   ]
  },
  {
   "cell_type": "markdown",
   "metadata": {
    "papermill": {
     "duration": 0.006362,
     "end_time": "2020-08-18T07:55:55.549938",
     "exception": false,
     "start_time": "2020-08-18T07:55:55.543576",
     "status": "completed"
    },
    "tags": []
   },
   "source": [
    "**About the dataset:**\n",
    "It is important that credit card companies are able to recognize fraudulent credit card transactions so that customers are not charged for items that they did not purchase. The dataset contains transactions made by credit cards in September 2013 by European cardholders. This dataset presents transactions that occurred in two days. It contains only numerical input variables which are the result of a PCA transformation. The only features which have not been transformed with PCA are 'Time' and 'Amount'. Feature 'Time' contains the seconds elapsed between each transaction and the first transaction in the dataset.\n",
    "Feature 'Class' is the response variable and it takes value 1 in case of fraud and 0 otherwise."
   ]
  },
  {
   "cell_type": "code",
   "execution_count": 2,
   "metadata": {
    "_cell_guid": "79c7e3d0-c299-4dcb-8224-4455121ee9b0",
    "_uuid": "d629ff2d2480ee46fbb7e2d37f6b5fab8052498a",
    "execution": {
     "iopub.execute_input": "2020-08-18T07:55:55.568446Z",
     "iopub.status.busy": "2020-08-18T07:55:55.567649Z",
     "iopub.status.idle": "2020-08-18T07:55:55.594504Z",
     "shell.execute_reply": "2020-08-18T07:55:55.593879Z"
    },
    "papermill": {
     "duration": 0.038403,
     "end_time": "2020-08-18T07:55:55.594624",
     "exception": false,
     "start_time": "2020-08-18T07:55:55.556221",
     "status": "completed"
    },
    "tags": []
   },
   "outputs": [
    {
     "data": {
      "text/plain": [
       "False"
      ]
     },
     "execution_count": 2,
     "metadata": {},
     "output_type": "execute_result"
    }
   ],
   "source": [
    "raw_data.isna().sum().any()"
   ]
  },
  {
   "cell_type": "markdown",
   "metadata": {
    "papermill": {
     "duration": 0.006325,
     "end_time": "2020-08-18T07:55:55.607823",
     "exception": false,
     "start_time": "2020-08-18T07:55:55.601498",
     "status": "completed"
    },
    "tags": []
   },
   "source": [
    "Luckily, there are no missing values."
   ]
  },
  {
   "cell_type": "code",
   "execution_count": 3,
   "metadata": {
    "execution": {
     "iopub.execute_input": "2020-08-18T07:55:55.628476Z",
     "iopub.status.busy": "2020-08-18T07:55:55.627687Z",
     "iopub.status.idle": "2020-08-18T07:55:55.639205Z",
     "shell.execute_reply": "2020-08-18T07:55:55.638466Z"
    },
    "papermill": {
     "duration": 0.024912,
     "end_time": "2020-08-18T07:55:55.639334",
     "exception": false,
     "start_time": "2020-08-18T07:55:55.614422",
     "status": "completed"
    },
    "tags": []
   },
   "outputs": [
    {
     "data": {
      "text/plain": [
       "0    284315\n",
       "1       492\n",
       "Name: Class, dtype: int64"
      ]
     },
     "execution_count": 3,
     "metadata": {},
     "output_type": "execute_result"
    }
   ],
   "source": [
    "raw_data.Class.value_counts()"
   ]
  },
  {
   "cell_type": "markdown",
   "metadata": {
    "papermill": {
     "duration": 0.006647,
     "end_time": "2020-08-18T07:55:55.654577",
     "exception": false,
     "start_time": "2020-08-18T07:55:55.647930",
     "status": "completed"
    },
    "tags": []
   },
   "source": [
    "We have 492 frauds out of 284,807 transactions. Thus, the dataset is highly **unbalanced**, the positive class (frauds) account for 0.172% of all transactions.\n",
    "To deal with unbalanced dataset, we can upsample minority class or downsample majority class. I choose to downsample majority class as upsampling will create duplicate or fake observations which can divert my model.\n",
    "Down sampling the majority class involves randomly removing observations from the majority class to prevent its signal from dominating the learning algorithm. We do it by using resample module from sklearn."
   ]
  },
  {
   "cell_type": "code",
   "execution_count": 4,
   "metadata": {
    "execution": {
     "iopub.execute_input": "2020-08-18T07:55:55.676765Z",
     "iopub.status.busy": "2020-08-18T07:55:55.675978Z",
     "iopub.status.idle": "2020-08-18T07:55:55.804628Z",
     "shell.execute_reply": "2020-08-18T07:55:55.804033Z"
    },
    "papermill": {
     "duration": 0.143365,
     "end_time": "2020-08-18T07:55:55.804772",
     "exception": false,
     "start_time": "2020-08-18T07:55:55.661407",
     "status": "completed"
    },
    "tags": []
   },
   "outputs": [
    {
     "data": {
      "text/plain": [
       "1    492\n",
       "0    492\n",
       "Name: Class, dtype: int64"
      ]
     },
     "execution_count": 4,
     "metadata": {},
     "output_type": "execute_result"
    }
   ],
   "source": [
    "from sklearn.utils import resample,shuffle\n",
    "df_majority = raw_data[raw_data['Class']==0]\n",
    "df_minority = raw_data[raw_data['Class']==1]\n",
    "df_majority_downsampled = resample(df_majority,replace=False,n_samples=492,random_state = 123)\n",
    "balanced_df = pd.concat([df_minority,df_majority_downsampled])\n",
    "balanced_df = shuffle(balanced_df)\n",
    "balanced_df.Class.value_counts()"
   ]
  },
  {
   "cell_type": "code",
   "execution_count": 5,
   "metadata": {
    "execution": {
     "iopub.execute_input": "2020-08-18T07:55:55.824455Z",
     "iopub.status.busy": "2020-08-18T07:55:55.823709Z",
     "iopub.status.idle": "2020-08-18T07:55:56.154549Z",
     "shell.execute_reply": "2020-08-18T07:55:56.153958Z"
    },
    "papermill": {
     "duration": 0.342759,
     "end_time": "2020-08-18T07:55:56.154678",
     "exception": false,
     "start_time": "2020-08-18T07:55:55.811919",
     "status": "completed"
    },
    "tags": []
   },
   "outputs": [
    {
     "data": {
      "text/plain": [
       "<matplotlib.axes._subplots.AxesSubplot at 0x7f456a766150>"
      ]
     },
     "execution_count": 5,
     "metadata": {},
     "output_type": "execute_result"
    },
    {
     "data": {
      "image/png": "[encoded data removed]",
      "text/plain": [
       "<Figure size 432x288 with 1 Axes>"
      ]
     },
     "metadata": {
      "needs_background": "light"
     },
     "output_type": "display_data"
    }
   ],
   "source": [
    "sns.distplot(balanced_df.Amount)"
   ]
  },
  {
   "cell_type": "code",
   "execution_count": 6,
   "metadata": {
    "execution": {
     "iopub.execute_input": "2020-08-18T07:55:56.183202Z",
     "iopub.status.busy": "2020-08-18T07:55:56.181460Z",
     "iopub.status.idle": "2020-08-18T07:55:56.327013Z",
     "shell.execute_reply": "2020-08-18T07:55:56.326154Z"
    },
    "papermill": {
     "duration": 0.164803,
     "end_time": "2020-08-18T07:55:56.327154",
     "exception": false,
     "start_time": "2020-08-18T07:55:56.162351",
     "status": "completed"
    },
    "tags": []
   },
   "outputs": [
    {
     "data": {
      "text/plain": [
       "<matplotlib.axes._subplots.AxesSubplot at 0x7f456a5263d0>"
      ]
     },
     "execution_count": 6,
     "metadata": {},
     "output_type": "execute_result"
    },
    {
     "data": {
      "image/png": "[encoded data removed]",
      "text/plain": [
       "<Figure size 432x288 with 1 Axes>"
      ]
     },
     "metadata": {
      "needs_background": "light"
     },
     "output_type": "display_data"
    }
   ],
   "source": [
    "sns.boxenplot(balanced_df.Time)"
   ]
  },
  {
   "cell_type": "code",
   "execution_count": 7,
   "metadata": {
    "execution": {
     "iopub.execute_input": "2020-08-18T07:55:56.357622Z",
     "iopub.status.busy": "2020-08-18T07:55:56.355409Z",
     "iopub.status.idle": "2020-08-18T07:55:56.450649Z",
     "shell.execute_reply": "2020-08-18T07:55:56.449918Z"
    },
    "papermill": {
     "duration": 0.115597,
     "end_time": "2020-08-18T07:55:56.450789",
     "exception": false,
     "start_time": "2020-08-18T07:55:56.335192",
     "status": "completed"
    },
    "tags": []
   },
   "outputs": [
    {
     "data": {
      "text/html": [
       "<div>\n",
       "<style scoped>\n",
       "    .dataframe tbody tr th:only-of-type {\n",
       "        vertical-align: middle;\n",
       "    }\n",
       "\n",
       "    .dataframe tbody tr th {\n",
       "        vertical-align: top;\n",
       "    }\n",
       "\n",
       "    .dataframe thead th {\n",
       "        text-align: right;\n",
       "    }\n",
       "</style>\n",
       "<table border=\"1\" class=\"dataframe\">\n",
       "  <thead>\n",
       "    <tr style=\"text-align: right;\">\n",
       "      <th></th>\n",
       "      <th>Time</th>\n",
       "      <th>V1</th>\n",
       "      <th>V2</th>\n",
       "      <th>V3</th>\n",
       "      <th>V4</th>\n",
       "      <th>V5</th>\n",
       "      <th>V6</th>\n",
       "      <th>V7</th>\n",
       "      <th>V8</th>\n",
       "      <th>V9</th>\n",
       "      <th>...</th>\n",
       "      <th>V21</th>\n",
       "      <th>V22</th>\n",
       "      <th>V23</th>\n",
       "      <th>V24</th>\n",
       "      <th>V25</th>\n",
       "      <th>V26</th>\n",
       "      <th>V27</th>\n",
       "      <th>V28</th>\n",
       "      <th>Amount</th>\n",
       "      <th>Class</th>\n",
       "    </tr>\n",
       "  </thead>\n",
       "  <tbody>\n",
       "    <tr>\n",
       "      <th>count</th>\n",
       "      <td>984.000000</td>\n",
       "      <td>984.000000</td>\n",
       "      <td>984.000000</td>\n",
       "      <td>984.000000</td>\n",
       "      <td>984.000000</td>\n",
       "      <td>984.000000</td>\n",
       "      <td>984.000000</td>\n",
       "      <td>984.000000</td>\n",
       "      <td>984.000000</td>\n",
       "      <td>984.000000</td>\n",
       "      <td>...</td>\n",
       "      <td>984.000000</td>\n",
       "      <td>984.000000</td>\n",
       "      <td>984.000000</td>\n",
       "      <td>984.000000</td>\n",
       "      <td>984.000000</td>\n",
       "      <td>984.000000</td>\n",
       "      <td>984.000000</td>\n",
       "      <td>984.000000</td>\n",
       "      <td>984.000000</td>\n",
       "      <td>984.000000</td>\n",
       "    </tr>\n",
       "    <tr>\n",
       "      <th>mean</th>\n",
       "      <td>88257.704268</td>\n",
       "      <td>-2.354814</td>\n",
       "      <td>1.793600</td>\n",
       "      <td>-3.532493</td>\n",
       "      <td>2.295678</td>\n",
       "      <td>-1.575886</td>\n",
       "      <td>-0.697604</td>\n",
       "      <td>-2.817221</td>\n",
       "      <td>0.224637</td>\n",
       "      <td>-1.251266</td>\n",
       "      <td>...</td>\n",
       "      <td>0.347330</td>\n",
       "      <td>0.022692</td>\n",
       "      <td>-0.001287</td>\n",
       "      <td>-0.080525</td>\n",
       "      <td>0.005779</td>\n",
       "      <td>0.011693</td>\n",
       "      <td>0.082836</td>\n",
       "      <td>0.031873</td>\n",
       "      <td>108.914045</td>\n",
       "      <td>0.500000</td>\n",
       "    </tr>\n",
       "    <tr>\n",
       "      <th>std</th>\n",
       "      <td>47610.901851</td>\n",
       "      <td>5.532291</td>\n",
       "      <td>3.748240</td>\n",
       "      <td>6.212568</td>\n",
       "      <td>3.183240</td>\n",
       "      <td>4.209633</td>\n",
       "      <td>1.765919</td>\n",
       "      <td>5.844693</td>\n",
       "      <td>4.954397</td>\n",
       "      <td>2.346111</td>\n",
       "      <td>...</td>\n",
       "      <td>2.821266</td>\n",
       "      <td>1.190068</td>\n",
       "      <td>1.229455</td>\n",
       "      <td>0.561177</td>\n",
       "      <td>0.684483</td>\n",
       "      <td>0.489997</td>\n",
       "      <td>1.025646</td>\n",
       "      <td>0.442602</td>\n",
       "      <td>252.054612</td>\n",
       "      <td>0.500254</td>\n",
       "    </tr>\n",
       "    <tr>\n",
       "      <th>min</th>\n",
       "      <td>406.000000</td>\n",
       "      <td>-30.552380</td>\n",
       "      <td>-17.891256</td>\n",
       "      <td>-31.103685</td>\n",
       "      <td>-5.251492</td>\n",
       "      <td>-22.105532</td>\n",
       "      <td>-6.406267</td>\n",
       "      <td>-43.557242</td>\n",
       "      <td>-41.044261</td>\n",
       "      <td>-13.434066</td>\n",
       "      <td>...</td>\n",
       "      <td>-22.797604</td>\n",
       "      <td>-8.887017</td>\n",
       "      <td>-19.254328</td>\n",
       "      <td>-2.117555</td>\n",
       "      <td>-4.781606</td>\n",
       "      <td>-1.498320</td>\n",
       "      <td>-7.263482</td>\n",
       "      <td>-3.669194</td>\n",
       "      <td>0.000000</td>\n",
       "      <td>0.000000</td>\n",
       "    </tr>\n",
       "    <tr>\n",
       "      <th>25%</th>\n",
       "      <td>47406.750000</td>\n",
       "      <td>-2.892574</td>\n",
       "      <td>-0.222215</td>\n",
       "      <td>-5.084967</td>\n",
       "      <td>-0.103452</td>\n",
       "      <td>-1.756283</td>\n",
       "      <td>-1.580290</td>\n",
       "      <td>-3.107826</td>\n",
       "      <td>-0.212570</td>\n",
       "      <td>-2.300885</td>\n",
       "      <td>...</td>\n",
       "      <td>-0.175590</td>\n",
       "      <td>-0.541855</td>\n",
       "      <td>-0.242438</td>\n",
       "      <td>-0.418536</td>\n",
       "      <td>-0.329121</td>\n",
       "      <td>-0.319999</td>\n",
       "      <td>-0.061796</td>\n",
       "      <td>-0.051373</td>\n",
       "      <td>1.290000</td>\n",
       "      <td>0.000000</td>\n",
       "    </tr>\n",
       "    <tr>\n",
       "      <th>50%</th>\n",
       "      <td>82088.500000</td>\n",
       "      <td>-0.762690</td>\n",
       "      <td>0.989032</td>\n",
       "      <td>-1.380620</td>\n",
       "      <td>1.307692</td>\n",
       "      <td>-0.474218</td>\n",
       "      <td>-0.667686</td>\n",
       "      <td>-0.711933</td>\n",
       "      <td>0.164934</td>\n",
       "      <td>-0.687562</td>\n",
       "      <td>...</td>\n",
       "      <td>0.173922</td>\n",
       "      <td>0.041249</td>\n",
       "      <td>-0.038770</td>\n",
       "      <td>-0.026193</td>\n",
       "      <td>0.043921</td>\n",
       "      <td>-0.017169</td>\n",
       "      <td>0.046163</td>\n",
       "      <td>0.035156</td>\n",
       "      <td>19.990000</td>\n",
       "      <td>0.500000</td>\n",
       "    </tr>\n",
       "    <tr>\n",
       "      <th>75%</th>\n",
       "      <td>133545.750000</td>\n",
       "      <td>1.080633</td>\n",
       "      <td>2.845852</td>\n",
       "      <td>0.277100</td>\n",
       "      <td>4.313236</td>\n",
       "      <td>0.446688</td>\n",
       "      <td>0.080660</td>\n",
       "      <td>0.222890</td>\n",
       "      <td>0.856881</td>\n",
       "      <td>0.221341</td>\n",
       "      <td>...</td>\n",
       "      <td>0.676682</td>\n",
       "      <td>0.593022</td>\n",
       "      <td>0.199694</td>\n",
       "      <td>0.353767</td>\n",
       "      <td>0.390074</td>\n",
       "      <td>0.324995</td>\n",
       "      <td>0.421736</td>\n",
       "      <td>0.208923</td>\n",
       "      <td>99.990000</td>\n",
       "      <td>1.000000</td>\n",
       "    </tr>\n",
       "    <tr>\n",
       "      <th>max</th>\n",
       "      <td>172742.000000</td>\n",
       "      <td>2.289916</td>\n",
       "      <td>22.057729</td>\n",
       "      <td>3.866661</td>\n",
       "      <td>12.114672</td>\n",
       "      <td>11.095089</td>\n",
       "      <td>6.474115</td>\n",
       "      <td>7.030177</td>\n",
       "      <td>20.007208</td>\n",
       "      <td>4.906917</td>\n",
       "      <td>...</td>\n",
       "      <td>27.202839</td>\n",
       "      <td>8.361985</td>\n",
       "      <td>12.576469</td>\n",
       "      <td>1.113121</td>\n",
       "      <td>3.018350</td>\n",
       "      <td>2.745261</td>\n",
       "      <td>6.250240</td>\n",
       "      <td>1.779364</td>\n",
       "      <td>3018.500000</td>\n",
       "      <td>1.000000</td>\n",
       "    </tr>\n",
       "  </tbody>\n",
       "</table>\n",
       "<p>8 rows × 31 columns</p>\n",
       "</div>"
      ],
      "text/plain": [
       "                Time          V1          V2          V3          V4  \\\n",
       "count     984.000000  984.000000  984.000000  984.000000  984.000000   \n",
       "mean    88257.704268   -2.354814    1.793600   -3.532493    2.295678   \n",
       "std     47610.901851    5.532291    3.748240    6.212568    3.183240   \n",
       "min       406.000000  -30.552380  -17.891256  -31.103685   -5.251492   \n",
       "25%     47406.750000   -2.892574   -0.222215   -5.084967   -0.103452   \n",
       "50%     82088.500000   -0.762690    0.989032   -1.380620    1.307692   \n",
       "75%    133545.750000    1.080633    2.845852    0.277100    4.313236   \n",
       "max    172742.000000    2.289916   22.057729    3.866661   12.114672   \n",
       "\n",
       "               V5          V6          V7          V8          V9  ...  \\\n",
       "count  984.000000  984.000000  984.000000  984.000000  984.000000  ...   \n",
       "mean    -1.575886   -0.697604   -2.817221    0.224637   -1.251266  ...   \n",
       "std      4.209633    1.765919    5.844693    4.954397    2.346111  ...   \n",
       "min    -22.105532   -6.406267  -43.557242  -41.044261  -13.434066  ...   \n",
       "25%     -1.756283   -1.580290   -3.107826   -0.212570   -2.300885  ...   \n",
       "50%     -0.474218   -0.667686   -0.711933    0.164934   -0.687562  ...   \n",
       "75%      0.446688    0.080660    0.222890    0.856881    0.221341  ...   \n",
       "max     11.095089    6.474115    7.030177   20.007208    4.906917  ...   \n",
       "\n",
       "              V21         V22         V23         V24         V25         V26  \\\n",
       "count  984.000000  984.000000  984.000000  984.000000  984.000000  984.000000   \n",
       "mean     0.347330    0.022692   -0.001287   -0.080525    0.005779    0.011693   \n",
       "std      2.821266    1.190068    1.229455    0.561177    0.684483    0.489997   \n",
       "min    -22.797604   -8.887017  -19.254328   -2.117555   -4.781606   -1.498320   \n",
       "25%     -0.175590   -0.541855   -0.242438   -0.418536   -0.329121   -0.319999   \n",
       "50%      0.173922    0.041249   -0.038770   -0.026193    0.043921   -0.017169   \n",
       "75%      0.676682    0.593022    0.199694    0.353767    0.390074    0.324995   \n",
       "max     27.202839    8.361985   12.576469    1.113121    3.018350    2.745261   \n",
       "\n",
       "              V27         V28       Amount       Class  \n",
       "count  984.000000  984.000000   984.000000  984.000000  \n",
       "mean     0.082836    0.031873   108.914045    0.500000  \n",
       "std      1.025646    0.442602   252.054612    0.500254  \n",
       "min     -7.263482   -3.669194     0.000000    0.000000  \n",
       "25%     -0.061796   -0.051373     1.290000    0.000000  \n",
       "50%      0.046163    0.035156    19.990000    0.500000  \n",
       "75%      0.421736    0.208923    99.990000    1.000000  \n",
       "max      6.250240    1.779364  3018.500000    1.000000  \n",
       "\n",
       "[8 rows x 31 columns]"
      ]
     },
     "execution_count": 7,
     "metadata": {},
     "output_type": "execute_result"
    }
   ],
   "source": [
    "balanced_df.describe()"
   ]
  },
  {
   "cell_type": "markdown",
   "metadata": {
    "papermill": {
     "duration": 0.008162,
     "end_time": "2020-08-18T07:55:56.467388",
     "exception": false,
     "start_time": "2020-08-18T07:55:56.459226",
     "status": "completed"
    },
    "tags": []
   },
   "source": [
    "There is a huge difference between mean values of all the features so it would be better to standardize these.\n",
    "Standard scaler transform all the features to the same scale and center them using Gaussian distribution. This is important in k-nearest neighbor and distance based omparisons as it puts all features on the same scale before modelling."
   ]
  },
  {
   "cell_type": "code",
   "execution_count": 8,
   "metadata": {
    "execution": {
     "iopub.execute_input": "2020-08-18T07:55:56.490937Z",
     "iopub.status.busy": "2020-08-18T07:55:56.490174Z",
     "iopub.status.idle": "2020-08-18T07:55:56.532586Z",
     "shell.execute_reply": "2020-08-18T07:55:56.531799Z"
    },
    "papermill": {
     "duration": 0.056819,
     "end_time": "2020-08-18T07:55:56.532723",
     "exception": false,
     "start_time": "2020-08-18T07:55:56.475904",
     "status": "completed"
    },
    "tags": []
   },
   "outputs": [],
   "source": [
    "from sklearn.preprocessing import StandardScaler\n",
    "\n",
    "X = balanced_df.drop('Class',axis=1)\n",
    "y = balanced_df.Class\n",
    "scaled_X = pd.DataFrame(StandardScaler().fit_transform(X),columns=X.columns)"
   ]
  },
  {
   "cell_type": "markdown",
   "metadata": {
    "papermill": {
     "duration": 0.008368,
     "end_time": "2020-08-18T07:55:56.549727",
     "exception": false,
     "start_time": "2020-08-18T07:55:56.541359",
     "status": "completed"
    },
    "tags": []
   },
   "source": [
    "Now,we split our data into training and test set. We do this to get accuracy score on unseen data so that we are sure our model has not overfitted training set."
   ]
  },
  {
   "cell_type": "code",
   "execution_count": 9,
   "metadata": {
    "execution": {
     "iopub.execute_input": "2020-08-18T07:55:56.573284Z",
     "iopub.status.busy": "2020-08-18T07:55:56.572414Z",
     "iopub.status.idle": "2020-08-18T07:55:56.635796Z",
     "shell.execute_reply": "2020-08-18T07:55:56.636361Z"
    },
    "papermill": {
     "duration": 0.078326,
     "end_time": "2020-08-18T07:55:56.636532",
     "exception": false,
     "start_time": "2020-08-18T07:55:56.558206",
     "status": "completed"
    },
    "tags": []
   },
   "outputs": [
    {
     "data": {
      "text/plain": [
       "((688, 30), (296, 30))"
      ]
     },
     "execution_count": 9,
     "metadata": {},
     "output_type": "execute_result"
    }
   ],
   "source": [
    "from sklearn.model_selection import train_test_split\n",
    "x_train,x_test,y_train,y_test = train_test_split(scaled_X,y,test_size=0.3,shuffle=True,random_state=42)\n",
    "x_train.shape,x_test.shape"
   ]
  },
  {
   "cell_type": "markdown",
   "metadata": {
    "papermill": {
     "duration": 0.00837,
     "end_time": "2020-08-18T07:55:56.653627",
     "exception": false,
     "start_time": "2020-08-18T07:55:56.645257",
     "status": "completed"
    },
    "tags": []
   },
   "source": [
    "Now we apply various machine learning algorithms to separate fraud and non-fraudalent cases and compare them with help of following two measures:\n",
    "* Accuracy score is the number of correct predictions made divided by the total number of predictions made.\n",
    "* The F1 score can be interpreted as a weighted average of the precision and recall, where an F1 score reaches its best value at 1 and worst score at 0. The relative contribution of precision and recall to the F1 score are equal."
   ]
  },
  {
   "cell_type": "code",
   "execution_count": 10,
   "metadata": {
    "execution": {
     "iopub.execute_input": "2020-08-18T07:55:56.683182Z",
     "iopub.status.busy": "2020-08-18T07:55:56.682409Z",
     "iopub.status.idle": "2020-08-18T07:55:58.473048Z",
     "shell.execute_reply": "2020-08-18T07:55:58.473731Z"
    },
    "papermill": {
     "duration": 1.811732,
     "end_time": "2020-08-18T07:55:58.473939",
     "exception": false,
     "start_time": "2020-08-18T07:55:56.662207",
     "status": "completed"
    },
    "tags": []
   },
   "outputs": [
    {
     "data": {
      "text/html": [
       "<div>\n",
       "<style scoped>\n",
       "    .dataframe tbody tr th:only-of-type {\n",
       "        vertical-align: middle;\n",
       "    }\n",
       "\n",
       "    .dataframe tbody tr th {\n",
       "        vertical-align: top;\n",
       "    }\n",
       "\n",
       "    .dataframe thead th {\n",
       "        text-align: right;\n",
       "    }\n",
       "</style>\n",
       "<table border=\"1\" class=\"dataframe\">\n",
       "  <thead>\n",
       "    <tr style=\"text-align: right;\">\n",
       "      <th></th>\n",
       "      <th>Accuracy in %</th>\n",
       "      <th>F1-score</th>\n",
       "    </tr>\n",
       "  </thead>\n",
       "  <tbody>\n",
       "    <tr>\n",
       "      <th>Logistic Regression</th>\n",
       "      <td>96.28</td>\n",
       "      <td>0.96</td>\n",
       "    </tr>\n",
       "    <tr>\n",
       "      <th>Decision Tree</th>\n",
       "      <td>93.24</td>\n",
       "      <td>0.93</td>\n",
       "    </tr>\n",
       "    <tr>\n",
       "      <th>Random Forest</th>\n",
       "      <td>94.93</td>\n",
       "      <td>0.95</td>\n",
       "    </tr>\n",
       "    <tr>\n",
       "      <th>Support Vector Machines</th>\n",
       "      <td>95.61</td>\n",
       "      <td>0.95</td>\n",
       "    </tr>\n",
       "    <tr>\n",
       "      <th>K-nearest Neighbors</th>\n",
       "      <td>92.91</td>\n",
       "      <td>0.93</td>\n",
       "    </tr>\n",
       "    <tr>\n",
       "      <th>XGBoost</th>\n",
       "      <td>94.59</td>\n",
       "      <td>0.95</td>\n",
       "    </tr>\n",
       "  </tbody>\n",
       "</table>\n",
       "</div>"
      ],
      "text/plain": [
       "                         Accuracy in %  F1-score\n",
       "Logistic Regression              96.28      0.96\n",
       "Decision Tree                    93.24      0.93\n",
       "Random Forest                    94.93      0.95\n",
       "Support Vector Machines          95.61      0.95\n",
       "K-nearest Neighbors              92.91      0.93\n",
       "XGBoost                          94.59      0.95"
      ]
     },
     "execution_count": 10,
     "metadata": {},
     "output_type": "execute_result"
    }
   ],
   "source": [
    "# importing classifiers\n",
    "from sklearn.linear_model import LogisticRegression\n",
    "from sklearn.tree import DecisionTreeClassifier\n",
    "from sklearn.ensemble import RandomForestClassifier\n",
    "from sklearn.svm import SVC\n",
    "from sklearn.neighbors import KNeighborsClassifier\n",
    "from xgboost import XGBClassifier\n",
    "from sklearn.metrics import f1_score,accuracy_score\n",
    "\n",
    "classifiers = {\n",
    "    'Logistic Regression' : LogisticRegression(),\n",
    "    'Decision Tree' : DecisionTreeClassifier(),\n",
    "    'Random Forest' : RandomForestClassifier(),\n",
    "    'Support Vector Machines' : SVC(),\n",
    "    'K-nearest Neighbors' : KNeighborsClassifier(),\n",
    "    'XGBoost' : XGBClassifier()\n",
    "}\n",
    "results=pd.DataFrame(columns=['Accuracy in %','F1-score'])\n",
    "for method,func in classifiers.items():\n",
    "    func.fit(x_train,y_train)\n",
    "    pred = func.predict(x_test)\n",
    "    results.loc[method]= [100*np.round(accuracy_score(y_test,pred),decimals=4),\n",
    "                         round(f1_score(y_test,pred),2)]\n",
    "results"
   ]
  },
  {
   "cell_type": "markdown",
   "metadata": {
    "papermill": {
     "duration": 0.010343,
     "end_time": "2020-08-18T07:55:58.495052",
     "exception": false,
     "start_time": "2020-08-18T07:55:58.484709",
     "status": "completed"
    },
    "tags": []
   },
   "source": [
    "All our models have accuracy above 90 and f1-score pretty close to 1.\n",
    "For more robust models we need to have a large number of observations."
   ]
  },
  {
   "cell_type": "markdown",
   "metadata": {
    "papermill": {
     "duration": 0.010729,
     "end_time": "2020-08-18T07:55:58.516730",
     "exception": false,
     "start_time": "2020-08-18T07:55:58.506001",
     "status": "completed"
    },
    "tags": []
   },
   "source": []
  }
 ],
 "metadata": {
  "kernelspec": {
   "display_name": "Python 3",
   "language": "python",
   "name": "python3"
  },
  "language_info": {
   "codemirror_mode": {
    "name": "ipython",
    "version": 3
   },
   "file_extension": ".py",
   "mimetype": "text/x-python",
   "name": "python",
   "nbconvert_exporter": "python",
   "pygments_lexer": "ipython3",
   "version": "3.7.4"
  },
  "papermill": {
   "duration": 12.494541,
   "end_time": "2020-08-18T07:55:58.635721",
   "environment_variables": {},
   "exception": null,
   "input_path": "__notebook__.ipynb",
   "output_path": "__notebook__.ipynb",
   "parameters": {},
   "start_time": "2020-08-18T07:55:46.141180",
   "version": "2.1.0"
  }
 },
 "nbformat": 4,
 "nbformat_minor": 4
}
